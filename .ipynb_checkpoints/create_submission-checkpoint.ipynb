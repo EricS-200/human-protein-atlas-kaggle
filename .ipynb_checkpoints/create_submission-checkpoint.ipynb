{
 "cells": [
  {
   "cell_type": "code",
   "execution_count": 51,
   "id": "8123aa32-a507-4c7a-a41d-344dce1e4166",
   "metadata": {},
   "outputs": [],
   "source": [
    "import torch\n",
    "import csv\n",
    "import pandas as pd\n",
    "from tqdm import tqdm\n",
    "from torch.utils.data import Dataset, DataLoader\n",
    "import os \n",
    "import sys\n",
    "import numpy as np\n",
    "from data_loader import DataOrganizer\n",
    "from torchvision import transforms"
   ]
  },
  {
   "cell_type": "code",
   "execution_count": 52,
   "id": "624aee9d-eb00-4da2-9f81-f41459673cb5",
   "metadata": {},
   "outputs": [
    {
     "data": {
      "text/plain": [
       "array([0.46292585, 0.44288577, 0.38877756, 0.52104208, 0.39078156,\n",
       "       0.5       , 0.6252505 , 0.57915832, 0.70941884, 0.5       ,\n",
       "       0.5       , 0.19238477, 0.5       , 0.53507014, 0.58116232,\n",
       "       0.5       , 0.35871743, 0.51302605, 0.39278557, 0.37274549,\n",
       "       0.5       , 0.47695391, 0.36472946, 0.27855711, 0.51703407,\n",
       "       0.3507014 , 0.58917836, 0.01603206])"
      ]
     },
     "execution_count": 52,
     "metadata": {},
     "output_type": "execute_result"
    }
   ],
   "source": [
    "model = torch.load(\"resnet50.pth\", weights_only=False, map_location=\"cuda\")\n",
    "model.cuda()\n",
    "thresholds = np.load(\"thresholds.npy\")\n",
    "thresholds"
   ]
  },
  {
   "cell_type": "code",
   "execution_count": 53,
   "id": "ac13a9b1-858c-426f-9e97-1a7c42a4acd5",
   "metadata": {},
   "outputs": [],
   "source": [
    "means = [0.05273682624101639, 0.05463362857699394, 0.0804334506392479, 0.08266294747591019]\n",
    "sds = [0.11251822113990784, 0.15588141977787018, 0.14967259764671326,0.149698406457901] \n",
    "\n",
    "transform = transforms.Compose([\n",
    "    transforms.Normalize(mean=means, std=sds)\n",
    "    ])\n",
    "\n",
    "df = pd.read_csv(\"sample_submission.csv\")\n",
    "ids = df[\"Id\"].values\n",
    "IMG_PATH = \"Data/test\"\n",
    "test_set = DataOrganizer(ids, IMG_PATH, transform=transform)\n",
    "imgs = DataLoader(test_set, batch_size=8, shuffle=False, num_workers=4, pin_memory=True, persistent_workers=True)"
   ]
  },
  {
   "cell_type": "code",
   "execution_count": 54,
   "id": "10ca3de8-ec41-447a-9113-7a40b72adf03",
   "metadata": {
    "scrolled": true
   },
   "outputs": [
    {
     "name": "stderr",
     "output_type": "stream",
     "text": [
      "Inference [Submission]: 100%|██████████████████████████████████████████████████████| 1463/1463 [02:01<00:00, 12.07it/s]\n"
     ]
    }
   ],
   "source": [
    "model.eval()\n",
    "predictions = []\n",
    "pb = tqdm(imgs, desc=\"Inference [Submission]\")\n",
    "with torch.no_grad():\n",
    "    for img in pb:\n",
    "        img = img.cuda(non_blocking=True)\n",
    "        logits = model(img)\n",
    "        probs  = torch.sigmoid(logits).cpu().numpy()\n",
    "        predictions.append(probs)\n",
    "predictions = np.vstack(predictions)"
   ]
  },
  {
   "cell_type": "code",
   "execution_count": 55,
   "id": "818fefc6-acd1-4321-82ab-8a8015bd1283",
   "metadata": {},
   "outputs": [],
   "source": [
    "res = [\"\"]*predictions.shape[0]\n",
    "predictions = (predictions > 0.5).astype(int)\n",
    "for i in range(predictions.shape[0]):\n",
    "    pred = predictions[i]\n",
    "    x = \"\"\n",
    "    for c in range(len(pred)):\n",
    "        if pred[c] == 1:\n",
    "            x+= str(c) + \" \"\n",
    "    res[i] = x.strip() # formatting into strings for each 28-length class indicator array"
   ]
  },
  {
   "cell_type": "code",
   "execution_count": 56,
   "id": "06153076-6f90-4841-8bce-4a2a5004e3a7",
   "metadata": {},
   "outputs": [],
   "source": [
    "submission_df = pd.DataFrame({\"Id\": ids, \"Predicted\": res})\n",
    "submission_df.to_csv(\"submissions/submission1.csv\", index=False)"
   ]
  },
  {
   "cell_type": "code",
   "execution_count": null,
   "id": "cbdc124c-1714-44af-9efa-b8ea071495fe",
   "metadata": {},
   "outputs": [],
   "source": []
  }
 ],
 "metadata": {
  "kernelspec": {
   "display_name": "Human Protein Atlas PyTorch (3.10 Py)",
   "language": "python",
   "name": "protein-atlas-pytorch"
  },
  "language_info": {
   "codemirror_mode": {
    "name": "ipython",
    "version": 3
   },
   "file_extension": ".py",
   "mimetype": "text/x-python",
   "name": "python",
   "nbconvert_exporter": "python",
   "pygments_lexer": "ipython3",
   "version": "3.10.16"
  }
 },
 "nbformat": 4,
 "nbformat_minor": 5
}
