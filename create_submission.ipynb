{
 "cells": [
  {
   "cell_type": "code",
   "execution_count": 51,
   "id": "8123aa32-a507-4c7a-a41d-344dce1e4166",
   "metadata": {},
   "outputs": [],
   "source": [
    "import torch\n",
    "import csv\n",
    "import pandas as pd\n",
    "from tqdm import tqdm\n",
    "from torch.utils.data import Dataset, DataLoader\n",
    "import os \n",
    "import sys\n",
    "import numpy as np\n",
    "from data_loader import DataOrganizer\n",
    "from torchvision import transforms"
   ]
  },
  {
   "cell_type": "code",
   "execution_count": 52,
   "id": "624aee9d-eb00-4da2-9f81-f41459673cb5",
   "metadata": {},
   "outputs": [
    {
     "data": {
      "text/plain": [
       "array([0.46292585, 0.44288577, 0.38877756, 0.52104208, 0.39078156,\n",
       "       0.5       , 0.6252505 , 0.57915832, 0.70941884, 0.5       ,\n",
       "       0.5       , 0.19238477, 0.5       , 0.53507014, 0.58116232,\n",
       "       0.5       , 0.35871743, 0.51302605, 0.39278557, 0.37274549,\n",
       "       0.5       , 0.47695391, 0.36472946, 0.27855711, 0.51703407,\n",
       "       0.3507014 , 0.58917836, 0.01603206])"
      ]
     },
     "execution_count": 52,
     "metadata": {},
     "output_type": "execute_result"
    }
   ],
   "source": [
    "model = torch.load(\"resnet50.pth\", weights_only=False, map_location=\"cuda\")\n",
    "model.cuda()\n",
    "thresholds = np.load(\"thresholds.npy\")\n",
    "thresholds"
   ]
  },
  {
   "cell_type": "code",
   "execution_count": 68,
   "id": "ac13a9b1-858c-426f-9e97-1a7c42a4acd5",
   "metadata": {},
   "outputs": [],
   "source": [
    "#means = [0.05273682624101639, 0.05463362857699394, 0.0804334506392479, 0.08266294747591019]\n",
    "#sds = [0.11251822113990784, 0.15588141977787018, 0.14967259764671326,0.149698406457901] \n",
    "\n",
    "means = [0.04534007981419563, 0.040644969791173935, 0.05908305197954178, 0.05922728404402733]\n",
    "sds = [0.10485349595546722, 0.13168220221996307, 0.12821660935878754,0.1246071457862854] \n",
    "\n",
    "transform = transforms.Compose([\n",
    "    transforms.Normalize(mean=means, std=sds)\n",
    "    ])\n",
    "\n",
    "df = pd.read_csv(\"sample_submission.csv\")\n",
    "ids = df[\"Id\"].values\n",
    "IMG_PATH = \"Data/test\"\n",
    "test_set = DataOrganizer(ids, IMG_PATH, transform=transform)\n",
    "imgs = DataLoader(test_set, batch_size=8, shuffle=False, num_workers=4, pin_memory=True, persistent_workers=True)"
   ]
  },
  {
   "cell_type": "code",
   "execution_count": 69,
   "id": "13de7937-ed91-4d19-acf1-18e70a141868",
   "metadata": {},
   "outputs": [
    {
     "name": "stderr",
     "output_type": "stream",
     "text": [
      "normalization stats: 100%|█████████████████████████████████████████████████████████| 1463/1463 [02:00<00:00, 12.10it/s]"
     ]
    },
    {
     "name": "stdout",
     "output_type": "stream",
     "text": [
      "Channel: 0 | Mean: -3.7677997170249e-05 | Std: 0.9999059438705444\n",
      "Channel: 1 | Mean: -4.3145966628799215e-05 | Std: 1.0000123977661133\n",
      "Channel: 2 | Mean: 2.9918293876107782e-05 | Std: 1.0000098943710327\n",
      "Channel: 3 | Mean: 3.043121614609845e-05 | Std: 0.9999994039535522\n"
     ]
    },
    {
     "name": "stderr",
     "output_type": "stream",
     "text": [
      "\n"
     ]
    }
   ],
   "source": [
    "# one time use to compute means and STDs\n",
    "sum_ = torch.zeros(4, device=\"cuda\")\n",
    "sum_sq = torch.zeros(4, device=\"cuda\")\n",
    "pixels = 512*512*len(test_set)\n",
    "\n",
    "for img in tqdm(imgs, desc=\"normalization stats\"):\n",
    "    img = img.cuda() \n",
    "    flat = img.view(8, 4, -1)\n",
    "    sum_ += flat.sum(dim=(0, 2))        \n",
    "    sum_sq += (flat ** 2).sum(dim=(0, 2))\n",
    "\n",
    "mean = sum_ / pixels\n",
    "std = ((sum_sq / pixels) - mean**2).sqrt()\n",
    "mean = mean.cpu().numpy()\n",
    "std = std.cpu().numpy()\n",
    "\n",
    "for c in range(4):\n",
    "    print(f\"Channel: {c} | Mean: {mean[c]} | Std: {std[c]}\")"
   ]
  },
  {
   "cell_type": "code",
   "execution_count": 70,
   "id": "10ca3de8-ec41-447a-9113-7a40b72adf03",
   "metadata": {
    "scrolled": true
   },
   "outputs": [
    {
     "name": "stderr",
     "output_type": "stream",
     "text": [
      "Inference [Submission]: 100%|██████████████████████████████████████████████████████| 1463/1463 [01:51<00:00, 13.18it/s]\n"
     ]
    }
   ],
   "source": [
    "model.eval()\n",
    "predictions = []\n",
    "pb = tqdm(imgs, desc=\"Inference [Submission]\")\n",
    "with torch.no_grad():\n",
    "    for img in pb:\n",
    "        img = img.cuda(non_blocking=True)\n",
    "        logits = model(img)\n",
    "        probs  = torch.sigmoid(logits).cpu().numpy()\n",
    "        predictions.append(probs)\n",
    "predictions = np.vstack(predictions)"
   ]
  },
  {
   "cell_type": "code",
   "execution_count": 71,
   "id": "818fefc6-acd1-4321-82ab-8a8015bd1283",
   "metadata": {},
   "outputs": [],
   "source": [
    "res = [\"\"]*predictions.shape[0]\n",
    "predictions = (predictions > 0.5).astype(int)\n",
    "for i in range(predictions.shape[0]):\n",
    "    pred = predictions[i]\n",
    "    x = \"\"\n",
    "    for c in range(len(pred)):\n",
    "        if pred[c] == 1:\n",
    "            x+= str(c) + \" \"\n",
    "    res[i] = x.strip() # formatting into strings for each 28-length class indicator array"
   ]
  },
  {
   "cell_type": "code",
   "execution_count": 72,
   "id": "06153076-6f90-4841-8bce-4a2a5004e3a7",
   "metadata": {},
   "outputs": [],
   "source": [
    "submission_df = pd.DataFrame({\"Id\": ids, \"Predicted\": res})\n",
    "submission_df.to_csv(\"submissions/submission2.csv\", index=False)"
   ]
  },
  {
   "cell_type": "code",
   "execution_count": 67,
   "id": "cbdc124c-1714-44af-9efa-b8ea071495fe",
   "metadata": {},
   "outputs": [
    {
     "data": {
      "text/plain": [
       "True"
      ]
     },
     "execution_count": 67,
     "metadata": {},
     "output_type": "execute_result"
    }
   ],
   "source": [
    "df1 = pd.read_csv(\"sample_submission.csv\")\n",
    "df2 = pd.read_csv(\"submissions/submission1.csv\")\n",
    "df1[\"Id\"].equals(df2[\"Id\"])"
   ]
  },
  {
   "cell_type": "code",
   "execution_count": null,
   "id": "066e8415-ec93-49e3-b2c9-ed6d0af682bc",
   "metadata": {},
   "outputs": [],
   "source": []
  }
 ],
 "metadata": {
  "kernelspec": {
   "display_name": "Human Protein Atlas PyTorch (3.10 Py)",
   "language": "python",
   "name": "protein-atlas-pytorch"
  },
  "language_info": {
   "codemirror_mode": {
    "name": "ipython",
    "version": 3
   },
   "file_extension": ".py",
   "mimetype": "text/x-python",
   "name": "python",
   "nbconvert_exporter": "python",
   "pygments_lexer": "ipython3",
   "version": "3.10.16"
  }
 },
 "nbformat": 4,
 "nbformat_minor": 5
}
